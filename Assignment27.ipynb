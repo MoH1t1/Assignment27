{
  "metadata": {
    "kernelspec": {
      "name": "python",
      "display_name": "Python (Pyodide)",
      "language": "python"
    },
    "language_info": {
      "codemirror_mode": {
        "name": "python",
        "version": 3
      },
      "file_extension": ".py",
      "mimetype": "text/x-python",
      "name": "python",
      "nbconvert_exporter": "python",
      "pygments_lexer": "ipython3",
      "version": "3.8"
    }
  },
  "nbformat_minor": 4,
  "nbformat": 4,
  "cells": [
    {
      "cell_type": "code",
      "source": "# Q1. What is Statistics?\n\nStatistics is the branch of mathematics that involves the collection, analysis, interpretation, presentation, and organization of data.",
      "metadata": {
        "trusted": true
      },
      "outputs": [],
      "execution_count": null
    },
    {
      "cell_type": "code",
      "source": "# Q2. Define the different types of statistics and give an example of when each type might be used.\n\nTypes:\nDescriptive Statistics: Descriptive statistics summarize and describe the features of a dataset without making predictions or generalizations.\nExample: A teacher calculates the average test score of students in a class (mean) and finds that the highest score is 95 and the lowest is 50\n\nInferential Statistics: Inferential statistics involves using sample data to make inferences or predictions about a larger population. \nExample: A pollster surveys 500 people about their voting preferences and uses the data to predict the outcome of an election for the entire population.",
      "metadata": {
        "trusted": true
      },
      "outputs": [],
      "execution_count": null
    },
    {
      "cell_type": "code",
      "source": "# Q3. What are the different types of data and how do they differ from each other? Provide an example of each type of data.\n\nTypes of Data:\nNominal Data: Categories without order. Example: Colors (red, blue, green).\nOrdinal Data: Categories with a specific order. Example: Rating (poor, good, excellent).\nDiscrete Data: Countable, distinct values. Example: Number of students.\nContinuous Data: Measurable values within a range. Example: Height (5.5 ft, 6 ft).",
      "metadata": {
        "trusted": true
      },
      "outputs": [],
      "execution_count": null
    },
    {
      "cell_type": "code",
      "source": "# Q4. Categorise the following datasets with respect to quantitative and qualitative data types:\n# (i) Grading in exam: A+, A, B+, B, C+, C, D, E\n# (ii) Colour of mangoes: yellow, green, orange, red\n# (iii) Height data of a class: [178.9, 179, 179.5, 176, 177.2, 178.3, 175.8,...]\n# (iv) Number of mangoes exported by a farm: [500, 600, 478, 672, ...]\n\ni) Qualitative (Ordinal): The grades are categories with a specific order.\nii) Qualitative (Nominal): The colors are categories without a specific order.\niii) Quantitative (Continuous): Height is a measurable value and can take any value within a range.\niv) Quantitative (Discrete): The number of mangoes is a countable value.\n",
      "metadata": {
        "trusted": true
      },
      "outputs": [],
      "execution_count": null
    },
    {
      "cell_type": "code",
      "source": "# Q5. Explain the concept of levels of measurement and give an example of a variable for each level.\n\nThe levels of measurement refer to the different ways in which data can be categorized, ordered, and measured. There are four main levels:\n\n1. Nominal Level: Data is categorized into distinct groups or categories without any specific order or ranking. Example: Gender (Male, Female).\n2. Ordinal Level: Data is categorized into ordered groups, but the intervals between the categories are not meaningful. Example: Education level (High School, Bachelor's, Master's, PhD).\n3. Interval Level: Data is ordered with meaningful intervals between values, but there is no true zero point. Example: Temperature in Celsius (20°C, 25°C, 30°C).\n4. Ratio Level: Data has a true zero point, and both differences and ratios are meaningful. Example: Weight (50 kg, 75 kg, 100 kg).",
      "metadata": {
        "trusted": true
      },
      "outputs": [],
      "execution_count": null
    },
    {
      "cell_type": "code",
      "source": "# Q6. Why is it important to understand the level of measurement when analyzing data? Provide an example to illustrate your answer.\n\nUnderstanding the level of measurement is important because it dictates which statistical methods can be used. For example, you can’t calculate an average for \nnominal data (like gender), but you can for ratio data (like weight). Using the wrong method leads to incorrect conclusions.",
      "metadata": {
        "trusted": true
      },
      "outputs": [],
      "execution_count": null
    },
    {
      "cell_type": "code",
      "source": "# Q7. How nominal data type is different from ordinal data type.\n\nNominal Data:\nCategories with no order or ranking.\nExample: Eye color (blue, green, brown).\n\nOrdinal Data:\nCategories with a specific order or ranking, but the intervals between categories are not meaningful.\nExample: Survey rating (poor, good, excellent).",
      "metadata": {
        "trusted": true
      },
      "outputs": [],
      "execution_count": null
    },
    {
      "cell_type": "code",
      "source": "# Q8. Which type of plot can be used to display data in terms of range?\n\nA box plot (box-and-whisker plot) can be used to display data in terms of range. It shows the minimum, first quartile, median, third quartile, and maximum values, \nproviding a visual representation of the data's spread or range. The \"whiskers\" indicate the range of the data.",
      "metadata": {
        "trusted": true
      },
      "outputs": [],
      "execution_count": null
    },
    {
      "cell_type": "code",
      "source": "# Q9. Describe the difference between descriptive and inferential statistics. Give an example of each type of statistics and explain how they are used.\n\nDescriptive Statistics: Summarizes and describes the main features of a dataset. It doesn't make predictions or inferences about a larger population. \nExample: Calculating the average test score of students in a class. This tells you about the specific class, not about any larger group.\nUse: To summarize data, e.g., calculating averages or percentages.\n\nInferential Statistics: Makes predictions or inferences about a population based on a sample. It uses probability and hypothesis testing to draw conclusions.\nExample: Surveying 100 people to predict the voting outcome for a larger population. You generalize the result from the sample to the whole population.\nUse: To make predictions or test hypotheses, e.g., estimating population parameters.",
      "metadata": {
        "trusted": true
      },
      "outputs": [],
      "execution_count": null
    },
    {
      "cell_type": "code",
      "source": "# Q10. What are some common measures of central tendency and variability used in statistics? Explain how each measure can be used to describe a dataset.\n\nMeasures of Central Tendency:\nMean: Average of all values. Example: Average test score.\nMedian: Middle value when data is ordered. Example: Median income.\nMode: Most frequent value. Example: Most common shoe size.\n    \nMeasures of Variability:\nRange: Difference between highest and lowest values. Example: Temperature range.\nVariance: Average squared deviation from the mean. Example: Test score variance.\nStandard Deviation: Square root of variance. Example: Standard deviation of heights.",
      "metadata": {
        "trusted": true
      },
      "outputs": [],
      "execution_count": null
    }
  ]
}